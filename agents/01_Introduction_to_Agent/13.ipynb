{
 "cells": [
  {
   "cell_type": "markdown",
   "id": "8d2dfa9e",
   "metadata": {},
   "source": [
    "# **Let's Create Our first Agent Using smolagents\n",
    "\n",
    "In the last section, we learned how we can create Agents from scratch using Python code, and we **saw just how tedious that process can be**. Fortunately, many Agent libraries simplify this work by **handling much of the heavy lifting for you**. \n",
    "\n",
    "In this tutorial, **I'll create your very first Agent** capable of performing actions such as image generation, web search, time zone checking and much more!\n",
    "\n",
    "**What is smolagents?**\n",
    "\n",
    "<img src=\"https://huggingface.co/datasets/agents-course/course-images/resolve/main/en/unit1/smolagents.png\">\n",
    "\n",
    "To make this Agent, we're going to use <em>`smolagents`</em>, a library that **provides a framwork for developing your agents with ease**. \n",
    "\n",
    "This lightweight library is designed for simplicity, but it abstracts away  much of the complexity of building an agent, allowing you to focus on designing your agent's behavior. \n",
    "\n",
    "In short, <em>`smolagents`</em> is a library that focuses on **`codeAgent`**, a kind of agent that performs \"**Actions**\" through code blocks, and then **\"Observes\"** results by executing the code. \n",
    "\n",
    "Here is an example of What we'll build!\n",
    "\n",
    "We provided our agent with an**Image generation tool** and asked it to generate an image of a cat. \n",
    "\n",
    "the agent inside <em>`smolagents`</em> is going to have the **same behaviors as the custom one we built previously**: it's going **to think, act and observe in cycle** untill \n",
    "it reaches a final answer: \n",
    "\n",
    "## **Let’s build our Agent!** \n",
    "\"Thanks to Aymeric for this templat!"
   ]
  },
  {
   "cell_type": "code",
   "execution_count": null,
   "id": "3905143e",
   "metadata": {},
   "outputs": [],
   "source": []
  },
  {
   "cell_type": "code",
   "execution_count": null,
   "id": "264496a6",
   "metadata": {},
   "outputs": [],
   "source": []
  },
  {
   "cell_type": "code",
   "execution_count": null,
   "id": "0824eb53",
   "metadata": {},
   "outputs": [],
   "source": []
  },
  {
   "cell_type": "code",
   "execution_count": null,
   "id": "a5bea649",
   "metadata": {},
   "outputs": [],
   "source": []
  },
  {
   "cell_type": "code",
   "execution_count": null,
   "id": "5dd453d5",
   "metadata": {},
   "outputs": [],
   "source": []
  }
 ],
 "metadata": {
  "language_info": {
   "name": "python"
  }
 },
 "nbformat": 4,
 "nbformat_minor": 5
}
