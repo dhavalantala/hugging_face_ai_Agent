{
 "cells": [
  {
   "cell_type": "markdown",
   "id": "24d9a3e0",
   "metadata": {},
   "source": [
    "# **Thought: internal Reasoning and the ReAct Approach**\n",
    "\n",
    "<div style=\"border-left: 3px solid black; padding-left: 10px;\">\n",
    "    <p>In this section, we dive into the inner workings of an AI agent—its ability to reason and plan. We’ll explore how the agent leverages its internal dialogue to analyze information, break down complex problems into manageable steps, and decide what action to take next. Additionally, we introduce the ReAct approach, a prompting technique that encourages the model to think “step by step” before acting.</p>\n",
    "</div>\n",
    "\n",
    "Thoughts represent the **agent's internal reasoning and planning processes** to solve the task. \n",
    "\n",
    "This utilises the agen't Large Langugae model(LLM) capacity **to analyze inofrmation when presented in its prompt**. \n",
    "\n",
    "Think of it as the agent's internal dialogue, where it considers the task at hand and strategizes its approach. \n",
    "\n",
    "The Agent's thoughts are responsible for accessing current observations and decide what the next actions should be. \n",
    "\n",
    "Through this process, the agent can **break down complex problems into smaller, more manageable steps**, reflect on past experiences, and continuously adjust it's plans based on new information. \n",
    "\n",
    "Here are some examples of common thoughts:\n",
    "\n",
    "| **Type of Thought** | **Example** |\n",
    "| ---- | ---- | \n",
    "| **Planning** | “I need to break this task into three steps: 1) gather data, 2) analyze trends, 3) generate report” | \n",
    "| **Analysis** | “Based on the error message, the issue appears to be with the database connection parameters” | \n",
    "| **Decision Making** | “Given the user’s budget constraints, I should recommend the mid-tier option” |\n",
    "| **Problem Solving** | “To optimize this code, I should first profile it to identify bottlenecks” |\n",
    "| **Memory Integration** | “The user mentioned their preference for Python earlier, so I’ll provide examples in Python” | \n",
    "| **Self-Reflection** | “My last approach didn’t work well, I should try a different strategy” |\n",
    "| **Goal Setting** |“To complete this task, I need to first establish the acceptance criteria” |\n",
    "| **Prioritization** | “The security vulnerability should be addressed before adding new features” |\n",
    "\n",
    "<div style=\"border-left: 3px solid black; padding-left: 10px;\">\n",
    "    <strong>Note</strong>: In the case of LLMs fine-tuned for function-calling, the thought process is optional. In case you’re not familiar with function-calling, there will be more details in the Actions section.\"\n",
    "</div>\n",
    "\n",
    "## **The ReAct Approach** \n",
    "\n",
    "The key method is the **ReAct approach**, which is the concatenation of \"Reasoning\"(Think) with \"Acting\"(act).\n",
    "\n",
    "ReAct is a simple prompting technique that appends \"Let's think step by step\" before letting the LLM decode the next tokens.\n",
    "\n",
    "Indeed, prompting the model to think \"step-by-step\" encourages the decoding process toward next tokens **that generate a plan**, rather than afinal solution, since the model is encouraged to **decompose** the problem into *sub-tasks*. \n",
    "\n",
    "This allows the model to consider sub-steps in more deatils, which in general leads to less errors than trying to generate the final soluution directly. \n",
    "\n",
    "<img src=\"https://huggingface.co/datasets/agents-course/course-images/resolve/main/en/unit1/ReAct.png\">\n",
    "\n",
    "*`The (d) is an example of ReAct approach where we prompt \"Let's think step by step\"`*\n",
    "\n",
    "<div style=\"border-left: 3px solid black; padding-left: 10px;\">\n",
    "    <p>We have recently seen a lot of interest for reasoning strategies. This is what's behind models like Deepseek R1 or OpenAI's o1, which have been fine-tuned to \"think before answering\".<p>\n",
    "    <p>These models have been trained to always include specific <em>thinking</em> sections (enclosed between <think> and </think> special tokens). This is not just a prompting technique like ReAct, but a training method where the model learns to generate these sections after analyzing thousands of examples that show what we expect it to do.\n",
    "</div>"
   ]
  },
  {
   "cell_type": "code",
   "execution_count": null,
   "id": "6f0ad413",
   "metadata": {},
   "outputs": [],
   "source": []
  },
  {
   "cell_type": "code",
   "execution_count": null,
   "id": "c4009aaa",
   "metadata": {},
   "outputs": [],
   "source": []
  },
  {
   "cell_type": "code",
   "execution_count": null,
   "id": "6bb01bd9",
   "metadata": {},
   "outputs": [],
   "source": []
  },
  {
   "cell_type": "code",
   "execution_count": null,
   "id": "6dcf1c12",
   "metadata": {},
   "outputs": [],
   "source": []
  }
 ],
 "metadata": {
  "kernelspec": {
   "display_name": "agent_venv",
   "language": "python",
   "name": "python3"
  },
  "language_info": {
   "name": "python",
   "version": "3.12.4"
  }
 },
 "nbformat": 4,
 "nbformat_minor": 5
}
